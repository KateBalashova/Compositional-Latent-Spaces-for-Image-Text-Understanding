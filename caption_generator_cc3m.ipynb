{
 "cells": [
  {
   "cell_type": "code",
   "execution_count": 1,
   "id": "ff4518df-9d8e-47ba-a96a-281f2da17ad6",
   "metadata": {},
   "outputs": [
    {
     "name": "stderr",
     "output_type": "stream",
     "text": [
      "Your browser has been opened to visit:\n",
      "\n",
      "    https://accounts.google.com/o/oauth2/auth?response_type=code&client_id=32555940559.apps.googleusercontent.com&redirect_uri=http%3A%2F%2Flocalhost%3A8085%2F&scope=openid+https%3A%2F%2Fwww.googleapis.com%2Fauth%2Fuserinfo.email+https%3A%2F%2Fwww.googleapis.com%2Fauth%2Fcloud-platform+https%3A%2F%2Fwww.googleapis.com%2Fauth%2Fappengine.admin+https%3A%2F%2Fwww.googleapis.com%2Fauth%2Fsqlservice.login+https%3A%2F%2Fwww.googleapis.com%2Fauth%2Fcompute+https%3A%2F%2Fwww.googleapis.com%2Fauth%2Faccounts.reauth&state=Lt6TdIE977xlSXJ26lxcJUBVwP4ecR&access_type=offline&code_challenge=85DdhVeioKqodCO40L9G74viBwW_FsSQOn_7gQqjnRM&code_challenge_method=S256\n",
      "\n",
      "\n",
      "You are now logged in as [kate.bal248@gmail.com].\n",
      "Your current project is [thermal-creek-462515-c0].  You can change this setting by running:\n",
      "  $ gcloud config set project PROJECT_ID\n"
     ]
    }
   ],
   "source": [
    "!gcloud auth login"
   ]
  },
  {
   "cell_type": "code",
   "execution_count": 2,
   "id": "6797be0c-99f2-4153-9da3-577dd439b75e",
   "metadata": {},
   "outputs": [
    {
     "name": "stderr",
     "output_type": "stream",
     "text": [
      "Updated property [core/project].\n"
     ]
    }
   ],
   "source": [
    "!gcloud config set project [your_project]"
   ]
  },
  {
   "cell_type": "code",
   "execution_count": 3,
   "id": "abe76c27-fdcc-42e7-867c-c10ba658fd52",
   "metadata": {},
   "outputs": [
    {
     "name": "stderr",
     "output_type": "stream",
     "text": [
      "Your browser has been opened to visit:\n",
      "\n",
      "    https://accounts.google.com/o/oauth2/auth?response_type=code&client_id=764086051850-6qr4p6gpi6hn506pt8ejuq83di341hur.apps.googleusercontent.com&redirect_uri=http%3A%2F%2Flocalhost%3A8085%2F&scope=openid+https%3A%2F%2Fwww.googleapis.com%2Fauth%2Fuserinfo.email+https%3A%2F%2Fwww.googleapis.com%2Fauth%2Fcloud-platform+https%3A%2F%2Fwww.googleapis.com%2Fauth%2Fsqlservice.login&state=3broCaZyHJSull78zPJMLt2F6N7voq&access_type=offline&code_challenge=wuSJgyHtfhozmJYXLCk_OHc3wSzIz8Jskez-6YUAw9g&code_challenge_method=S256\n",
      "\n",
      "\n",
      "Credentials saved to file: [C:\\Users\\Kate\\AppData\\Roaming\\gcloud\\application_default_credentials.json]\n",
      "\n",
      "These credentials will be used by any library that requests Application Default Credentials (ADC).\n",
      "\n",
      "Quota project \"thermal-creek-462515-c0\" was added to ADC which can be used by Google client libraries for billing and quota. Note that some services may still bill the project owning the resource.\n"
     ]
    }
   ],
   "source": [
    "!gcloud auth application-default login"
   ]
  },
  {
   "cell_type": "code",
   "execution_count": null,
   "id": "2117ab28-c180-47c0-b680-3a246978aa2f",
   "metadata": {},
   "outputs": [],
   "source": [
    "!gsutil -m cp -r images/ your_bucket"
   ]
  },
  {
   "cell_type": "code",
   "execution_count": 14,
   "id": "d95e4ba5-eb8b-4342-8618-ec0c7cd6131b",
   "metadata": {},
   "outputs": [],
   "source": [
    "import pandas as pd\n",
    "\n",
    "df = pd.read_csv(\"captions.csv\", encoding='utf-8', encoding_errors='replace')\n",
    "df[\"gcs_path\"] = df[\"filename\"].apply(lambda x: f\"your_path\")\n",
    "df.to_csv(\"remote_paths.csv\", index=False)"
   ]
  },
  {
   "cell_type": "code",
   "execution_count": 15,
   "id": "772d6e3d-7993-42e2-8a85-421b2631deb3",
   "metadata": {},
   "outputs": [
    {
     "data": {
      "text/plain": [
       "Index(['filename', 'caption', 'gcs_path'], dtype='object')"
      ]
     },
     "execution_count": 15,
     "metadata": {},
     "output_type": "execute_result"
    }
   ],
   "source": [
    "df.columns"
   ]
  },
  {
   "cell_type": "code",
   "execution_count": 16,
   "id": "53774702-a150-42f7-9c80-a87e3ac0ddf4",
   "metadata": {},
   "outputs": [],
   "source": [
    "from google.cloud import aiplatform\n",
    "\n",
    "aiplatform.init(project=\"your_project\", location=\"your_location\")"
   ]
  },
  {
   "cell_type": "code",
   "execution_count": 17,
   "id": "f494bebc-3d59-4776-9f22-bfd48374cead",
   "metadata": {},
   "outputs": [],
   "source": [
    "image_uris = df[\"gcs_path\"].tolist()"
   ]
  },
  {
   "cell_type": "code",
   "execution_count": 18,
   "id": "99bd7284-2d1c-4855-ac6e-782bb33ed531",
   "metadata": {},
   "outputs": [],
   "source": [
    "from vertexai.generative_models import GenerativeModel, Part, HarmCategory, HarmBlockThreshold\n",
    "from tqdm import tqdm\n",
    "\n",
    "model = GenerativeModel(\"gemini-2.0-flash-lite\")\n",
    "generation_config = {\n",
    "    \"max_output_tokens\": 77,  # CLIP's limit\n",
    "    \"temperature\": 0.3,\n",
    "}"
   ]
  },
  {
   "cell_type": "code",
   "execution_count": 21,
   "id": "2593e357-345e-4568-963b-e1fccc2fb2ec",
   "metadata": {},
   "outputs": [
    {
     "name": "stderr",
     "output_type": "stream",
     "text": [
      "  3%|█▉                                                                          | 255/10000 [06:29<4:02:08,  1.49s/it]"
     ]
    },
    {
     "name": "stdout",
     "output_type": "stream",
     "text": [
      "Failed for gs://kate-bal248-vlms-data/cc3m/images/images/cc3m_00254.jpg: Cannot get the response text.\n",
      "Cannot get the Candidate text.\n",
      "Response candidate content has no parts (and thus no text). The candidate is likely blocked by the safety filters.\n",
      "Content:\n",
      "{}\n",
      "Candidate:\n",
      "{\n",
      "  \"content\": {},\n",
      "  \"finish_reason\": \"PROHIBITED_CONTENT\",\n",
      "  \"safety_ratings\": [\n",
      "    {\n",
      "      \"category\": \"HARM_CATEGORY_HATE_SPEECH\",\n",
      "      \"probability\": \"NEGLIGIBLE\",\n",
      "      \"probability_score\": 0.0010464326,\n",
      "      \"severity\": \"HARM_SEVERITY_NEGLIGIBLE\",\n",
      "      \"severity_score\": 0.061011285\n",
      "    },\n",
      "    {\n",
      "      \"category\": \"HARM_CATEGORY_DANGEROUS_CONTENT\",\n",
      "      \"probability\": \"NEGLIGIBLE\",\n",
      "      \"probability_score\": 0.0059583792,\n",
      "      \"severity\": \"HARM_SEVERITY_NEGLIGIBLE\",\n",
      "      \"severity_score\": 0.015175089\n",
      "    },\n",
      "    {\n",
      "      \"category\": \"HARM_CATEGORY_HARASSMENT\",\n",
      "      \"probability\": \"NEGLIGIBLE\",\n",
      "      \"probability_score\": 2.006455e-05,\n",
      "      \"severity\": \"HARM_SEVERITY_NEGLIGIBLE\",\n",
      "      \"severity_score\": 0.013163855\n",
      "    },\n",
      "    {\n",
      "      \"category\": \"HARM_CATEGORY_SEXUALLY_EXPLICIT\",\n",
      "      \"probability\": \"NEGLIGIBLE\",\n",
      "      \"probability_score\": 0.00061062584,\n",
      "      \"severity\": \"HARM_SEVERITY_NEGLIGIBLE\"\n",
      "    }\n",
      "  ]\n",
      "}\n",
      "Response:\n",
      "{\n",
      "  \"candidates\": [\n",
      "    {\n",
      "      \"content\": {},\n",
      "      \"finish_reason\": \"PROHIBITED_CONTENT\",\n",
      "      \"safety_ratings\": [\n",
      "        {\n",
      "          \"category\": \"HARM_CATEGORY_HATE_SPEECH\",\n",
      "          \"probability\": \"NEGLIGIBLE\",\n",
      "          \"probability_score\": 0.0010464326,\n",
      "          \"severity\": \"HARM_SEVERITY_NEGLIGIBLE\",\n",
      "          \"severity_score\": 0.061011285\n",
      "        },\n",
      "        {\n",
      "          \"category\": \"HARM_CATEGORY_DANGEROUS_CONTENT\",\n",
      "          \"probability\": \"NEGLIGIBLE\",\n",
      "          \"probability_score\": 0.0059583792,\n",
      "          \"severity\": \"HARM_SEVERITY_NEGLIGIBLE\",\n",
      "          \"severity_score\": 0.015175089\n",
      "        },\n",
      "        {\n",
      "          \"category\": \"HARM_CATEGORY_HARASSMENT\",\n",
      "          \"probability\": \"NEGLIGIBLE\",\n",
      "          \"probability_score\": 2.006455e-05,\n",
      "          \"severity\": \"HARM_SEVERITY_NEGLIGIBLE\",\n",
      "          \"severity_score\": 0.013163855\n",
      "        },\n",
      "        {\n",
      "          \"category\": \"HARM_CATEGORY_SEXUALLY_EXPLICIT\",\n",
      "          \"probability\": \"NEGLIGIBLE\",\n",
      "          \"probability_score\": 0.00061062584,\n",
      "          \"severity\": \"HARM_SEVERITY_NEGLIGIBLE\"\n",
      "        }\n",
      "      ]\n",
      "    }\n",
      "  ],\n",
      "  \"usage_metadata\": {\n",
      "    \"prompt_token_count\": 1815,\n",
      "    \"total_token_count\": 1815,\n",
      "    \"prompt_tokens_details\": [\n",
      "      {\n",
      "        \"modality\": \"IMAGE\",\n",
      "        \"token_count\": 1806\n",
      "      },\n",
      "      {\n",
      "        \"modality\": \"TEXT\",\n",
      "        \"token_count\": 9\n",
      "      }\n",
      "    ]\n",
      "  },\n",
      "  \"model_version\": \"gemini-2.0-flash-lite\",\n",
      "  \"create_time\": \"2025-06-10T22:14:42.251602Z\",\n",
      "  \"response_id\": \"Uq5IaNKtD_-Fm9IPov-5sAU\"\n",
      "}\n"
     ]
    },
    {
     "name": "stderr",
     "output_type": "stream",
     "text": [
      "100%|██████████████████████████████████████████████████████████████████████████| 10000/10000 [4:26:01<00:00,  1.60s/it]\n"
     ]
    }
   ],
   "source": [
    "def generate_caption(image_uri: str) -> str:\n",
    "    \"\"\"Generate caption for a single image\"\"\"\n",
    "    try:\n",
    "        response = model.generate_content(\n",
    "            contents=[\n",
    "                Part.from_text(\"Describe this image in 1-2 sentences\"),\n",
    "                Part.from_uri(image_uri, mime_type=\"image/jpeg\")  # For GCS URIs\n",
    "            ],\n",
    "            generation_config=generation_config,\n",
    "            safety_settings={\n",
    "                HarmCategory.HARM_CATEGORY_HARASSMENT: HarmBlockThreshold.BLOCK_NONE,\n",
    "                HarmCategory.HARM_CATEGORY_HATE_SPEECH: HarmBlockThreshold.BLOCK_NONE,\n",
    "                HarmCategory.HARM_CATEGORY_SEXUALLY_EXPLICIT: HarmBlockThreshold.BLOCK_ONLY_HIGH,\n",
    "                HarmCategory.HARM_CATEGORY_DANGEROUS_CONTENT: HarmBlockThreshold.BLOCK_NONE\n",
    "            }\n",
    "        )\n",
    "        return response.text\n",
    "    except Exception as e:\n",
    "        print(f\"Failed for {image_uri}: {str(e)}\")\n",
    "        return None\n",
    "\n",
    "# Process with progress bar\n",
    "df[\"gemini_caption\"] = \"\"\n",
    "for idx, uri in tqdm(enumerate(image_uris), total=len(image_uris)):\n",
    "    df.at[idx, \"gemini_caption\"] = generate_caption(uri)\n"
   ]
  },
  {
   "cell_type": "code",
   "execution_count": 22,
   "id": "1bc5c43b-d06a-407b-8911-638a3482f615",
   "metadata": {},
   "outputs": [
    {
     "name": "stdout",
     "output_type": "stream",
     "text": [
      "✅ Done! Processed 10000 images. Results saved to CSV.\n"
     ]
    }
   ],
   "source": [
    "df.to_csv(\"cc3m_with_gemini_captions.csv\", index=False)\n",
    "print(f\"✅ Done! Processed {len(df)} images. Results saved to CSV.\")"
   ]
  },
  {
   "cell_type": "code",
   "execution_count": null,
   "id": "ca840416-46e5-4205-bee8-13e72ae969b8",
   "metadata": {},
   "outputs": [],
   "source": []
  }
 ],
 "metadata": {
  "kernelspec": {
   "display_name": "Python 3 (ipykernel)",
   "language": "python",
   "name": "python3"
  },
  "language_info": {
   "codemirror_mode": {
    "name": "ipython",
    "version": 3
   },
   "file_extension": ".py",
   "mimetype": "text/x-python",
   "name": "python",
   "nbconvert_exporter": "python",
   "pygments_lexer": "ipython3",
   "version": "3.12.8"
  }
 },
 "nbformat": 4,
 "nbformat_minor": 5
}
